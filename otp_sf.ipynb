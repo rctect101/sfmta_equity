{
 "cells": [
  {
   "cell_type": "code",
   "execution_count": 6,
   "id": "exciting-wichita",
   "metadata": {},
   "outputs": [],
   "source": [
    "import gtfs"
   ]
  },
  {
   "cell_type": "code",
   "execution_count": 7,
   "id": "southern-welsh",
   "metadata": {},
   "outputs": [],
   "source": [
    "import utils"
   ]
  },
  {
   "cell_type": "code",
   "execution_count": 8,
   "id": "polished-console",
   "metadata": {},
   "outputs": [],
   "source": [
    "import otp"
   ]
  },
  {
   "cell_type": "code",
   "execution_count": 9,
   "id": "departmental-seattle",
   "metadata": {},
   "outputs": [],
   "source": [
    "import configparser"
   ]
  },
  {
   "cell_type": "code",
   "execution_count": 10,
   "id": "bottom-lighter",
   "metadata": {},
   "outputs": [],
   "source": [
    "import datetime"
   ]
  },
  {
   "cell_type": "code",
   "execution_count": 11,
   "id": "placed-sheffield",
   "metadata": {},
   "outputs": [],
   "source": [
    "from subprocess import call"
   ]
  },
  {
   "cell_type": "code",
   "execution_count": 12,
   "id": "preceding-ensemble",
   "metadata": {},
   "outputs": [],
   "source": [
    "import time"
   ]
  },
  {
   "cell_type": "code",
   "execution_count": 13,
   "id": "romance-prior",
   "metadata": {},
   "outputs": [],
   "source": [
    "import argparse"
   ]
  },
  {
   "cell_type": "code",
   "execution_count": 14,
   "id": "sweet-spring",
   "metadata": {},
   "outputs": [],
   "source": [
    "from datetime import timedelta"
   ]
  },
  {
   "cell_type": "code",
   "execution_count": 15,
   "id": "noticed-lucas",
   "metadata": {
    "scrolled": true
   },
   "outputs": [],
   "source": [
    "import sys"
   ]
  },
  {
   "cell_type": "code",
   "execution_count": 16,
   "id": "inside-glory",
   "metadata": {},
   "outputs": [
    {
     "data": {
      "text/plain": [
       "['config.cfg']"
      ]
     },
     "execution_count": 16,
     "metadata": {},
     "output_type": "execute_result"
    }
   ],
   "source": [
    "config = configparser.ConfigParser()\n",
    "config.read('config.cfg')"
   ]
  },
  {
   "cell_type": "code",
   "execution_count": 17,
   "id": "taken-moment",
   "metadata": {},
   "outputs": [],
   "source": [
    "parser = argparse.ArgumentParser(description='arguments for dates and region')"
   ]
  },
  {
   "cell_type": "code",
   "execution_count": 18,
   "id": "outstanding-portuguese",
   "metadata": {},
   "outputs": [
    {
     "data": {
      "text/plain": [
       "_StoreTrueAction(option_strings=['-s', '--dst'], dest='dst', nargs=0, const=True, default=False, type=None, choices=None, help='if true, will use daylight savings time', metavar=None)"
      ]
     },
     "execution_count": 18,
     "metadata": {},
     "output_type": "execute_result"
    }
   ],
   "source": [
    "parser.add_argument(\"-d\", '--date', help=\"date for historical feeds, YYYY-MM-DD\")\n",
    "parser.add_argument(\"-r\", '--region', help=\"region to evaluate\")\n",
    "parser.add_argument(\"-p\", '--threads', help=\"number of threads\")\n",
    "parser.add_argument(\"-z\", '--period', help=\"if ALL, then evaluate all periods, else do a single\")\n",
    "parser.add_argument(\"-b\", '--build_only', default = False, action='store_true', help = 'if true, will build graph from existing feeds')\n",
    "parser.add_argument(\"-o\", '--run_only', default = False, action='store_true', help = 'if true, will run on existing graph')\n",
    "parser.add_argument(\"-f\", '--feeds_only', default = False, action='store_true', help = 'if true, will run only pull feeds')\n",
    "parser.add_argument(\"-s\", '--dst', default = False, action='store_true', help = 'if true, will use daylight savings time')"
   ]
  },
  {
   "cell_type": "code",
   "execution_count": 19,
   "id": "latest-germany",
   "metadata": {},
   "outputs": [
    {
     "name": "stderr",
     "output_type": "stream",
     "text": [
      "usage: ipykernel_launcher.py [-h] [-d DATE] [-r REGION] [-p THREADS]\n",
      "                             [-z PERIOD] [-b] [-o] [-f] [-s]\n",
      "ipykernel_launcher.py: error: unrecognized arguments: C:\\Users\\ryanm\\AppData\\Roaming\\jupyter\\runtime\\kernel-d6ffe34f-8f7c-4635-9064-e53bdfdd9370.json\n"
     ]
    },
    {
     "ename": "SystemExit",
     "evalue": "2",
     "output_type": "error",
     "traceback": [
      "An exception has occurred, use %tb to see the full traceback.\n",
      "\u001b[1;31mSystemExit\u001b[0m\u001b[1;31m:\u001b[0m 2\n"
     ]
    },
    {
     "name": "stderr",
     "output_type": "stream",
     "text": [
      "C:\\Users\\ryanm\\anaconda3\\envs\\up229\\lib\\site-packages\\IPython\\core\\interactiveshell.py:3327: UserWarning: To exit: use 'exit', 'quit', or Ctrl-D.\n",
      "  warn(\"To exit: use 'exit', 'quit', or Ctrl-D.\", stacklevel=1)\n"
     ]
    }
   ],
   "source": [
    "args = parser.parse_args()"
   ]
  },
  {
   "cell_type": "code",
   "execution_count": 20,
   "id": "wrapped-antigua",
   "metadata": {},
   "outputs": [
    {
     "ename": "NameError",
     "evalue": "name 'args' is not defined",
     "output_type": "error",
     "traceback": [
      "\u001b[1;31m---------------------------------------------------------------------------\u001b[0m",
      "\u001b[1;31mNameError\u001b[0m                                 Traceback (most recent call last)",
      "\u001b[1;32m<ipython-input-20-04e0f1c88e5c>\u001b[0m in \u001b[0;36m<module>\u001b[1;34m\u001b[0m\n\u001b[1;32m----> 1\u001b[1;33m \u001b[0mdate\u001b[0m \u001b[1;33m=\u001b[0m \u001b[0mdatetime\u001b[0m\u001b[1;33m.\u001b[0m\u001b[0mdatetime\u001b[0m\u001b[1;33m.\u001b[0m\u001b[0mstrptime\u001b[0m\u001b[1;33m(\u001b[0m\u001b[0margs\u001b[0m\u001b[1;33m.\u001b[0m\u001b[0mdate\u001b[0m\u001b[1;33m,\u001b[0m \u001b[1;34m'%Y-%m-%d'\u001b[0m\u001b[1;33m)\u001b[0m\u001b[1;33m\u001b[0m\u001b[1;33m\u001b[0m\u001b[0m\n\u001b[0m\u001b[0;32m      2\u001b[0m \u001b[0mregion\u001b[0m \u001b[1;33m=\u001b[0m \u001b[0margs\u001b[0m\u001b[1;33m.\u001b[0m\u001b[0mregion\u001b[0m\u001b[1;33m\u001b[0m\u001b[1;33m\u001b[0m\u001b[0m\n\u001b[0;32m      3\u001b[0m \u001b[0mthreads\u001b[0m \u001b[1;33m=\u001b[0m \u001b[0mint\u001b[0m\u001b[1;33m(\u001b[0m\u001b[0margs\u001b[0m\u001b[1;33m.\u001b[0m\u001b[0mthreads\u001b[0m\u001b[1;33m)\u001b[0m\u001b[1;33m\u001b[0m\u001b[1;33m\u001b[0m\u001b[0m\n\u001b[0;32m      4\u001b[0m \u001b[0mperiod\u001b[0m \u001b[1;33m=\u001b[0m \u001b[0margs\u001b[0m\u001b[1;33m.\u001b[0m\u001b[0mperiod\u001b[0m\u001b[1;33m.\u001b[0m\u001b[0mupper\u001b[0m\u001b[1;33m(\u001b[0m\u001b[1;33m)\u001b[0m\u001b[1;33m\u001b[0m\u001b[1;33m\u001b[0m\u001b[0m\n\u001b[0;32m      5\u001b[0m \u001b[0mbuild_only\u001b[0m \u001b[1;33m=\u001b[0m \u001b[0margs\u001b[0m\u001b[1;33m.\u001b[0m\u001b[0mbuild_only\u001b[0m\u001b[1;33m\u001b[0m\u001b[1;33m\u001b[0m\u001b[0m\n",
      "\u001b[1;31mNameError\u001b[0m: name 'args' is not defined"
     ]
    }
   ],
   "source": [
    "date = datetime.datetime.strptime(args.date, '%Y-%m-%d')\n",
    "region = args.region\n",
    "threads = int(args.threads)\n",
    "period = args.period.upper()\n",
    "build_only = args.build_only\n",
    "run_only = args.run_only\n",
    "feeds_only = args.feeds_only\n",
    "dst = args.dst"
   ]
  },
  {
   "cell_type": "code",
   "execution_count": 21,
   "id": "british-nigeria",
   "metadata": {},
   "outputs": [
    {
     "ename": "NameError",
     "evalue": "name 'region' is not defined",
     "output_type": "error",
     "traceback": [
      "\u001b[1;31m---------------------------------------------------------------------------\u001b[0m",
      "\u001b[1;31mNameError\u001b[0m                                 Traceback (most recent call last)",
      "\u001b[1;32m<ipython-input-21-a076adfca0ee>\u001b[0m in \u001b[0;36m<module>\u001b[1;34m\u001b[0m\n\u001b[0;32m      3\u001b[0m     \u001b[0mstart_time\u001b[0m \u001b[1;33m=\u001b[0m \u001b[0mtime\u001b[0m\u001b[1;33m.\u001b[0m\u001b[0mtime\u001b[0m\u001b[1;33m(\u001b[0m\u001b[1;33m)\u001b[0m\u001b[1;33m\u001b[0m\u001b[1;33m\u001b[0m\u001b[0m\n\u001b[0;32m      4\u001b[0m \u001b[1;33m\u001b[0m\u001b[0m\n\u001b[1;32m----> 5\u001b[1;33m     \u001b[0mcounty_ids\u001b[0m \u001b[1;33m=\u001b[0m \u001b[0mutils\u001b[0m\u001b[1;33m.\u001b[0m\u001b[0mcounty_ids\u001b[0m\u001b[1;33m.\u001b[0m\u001b[0mget_county_ids\u001b[0m\u001b[1;33m(\u001b[0m\u001b[0mregion\u001b[0m\u001b[1;33m)\u001b[0m\u001b[1;33m\u001b[0m\u001b[1;33m\u001b[0m\u001b[0m\n\u001b[0m\u001b[0;32m      6\u001b[0m \u001b[1;33m\u001b[0m\u001b[0m\n\u001b[0;32m      7\u001b[0m     \u001b[0mprint\u001b[0m\u001b[1;33m(\u001b[0m\u001b[0mcounty_ids\u001b[0m\u001b[1;33m)\u001b[0m\u001b[1;33m\u001b[0m\u001b[1;33m\u001b[0m\u001b[0m\n",
      "\u001b[1;31mNameError\u001b[0m: name 'region' is not defined"
     ]
    }
   ],
   "source": [
    "if __name__ == '__main__':\n",
    "\n",
    "    start_time = time.time()    \n",
    "    \n",
    "    county_ids = utils.county_ids.get_county_ids(region)\n",
    "\n",
    "    print(county_ids)\n",
    "    \n",
    "    print(region)\n",
    "    \n",
    "    xmin, xmax, ymin, ymax = utils.geometry.osm_bounds(region, county_ids, raw = True)\n",
    "    \n",
    "    \n",
    "    print(xmin, xmax, ymin, ymax)\n",
    "    \n",
    "    dt_str = date.strftime('%Y-%m-%d')\n",
    "    \n",
    "    #depending on the region, certain gtfs feeds may only be available for one website\n",
    "    \n",
    "    if ((build_only == False) & (feeds_only == False)):\n",
    "\n",
    "        if run_only == False:\n",
    "            if region in config['General']['transit_feeds']:\n",
    "                print('Transit Feeds')\n",
    "                gtfs.get.transit_feeds_historical(region, dt_str, xmin, xmax, ymin, ymax)\n",
    "            \n",
    "            else:\n",
    "                \n",
    "                print('Transit Land')\n",
    "                for i in range(2):\n",
    "                \n",
    "                    gtfs.get.transit_land(region, dt_str, xmin, xmax, ymin, ymax)\n",
    "                    time.sleep(90)\n",
    "            \n",
    "            otp.build.build_otp(region, dt_str)\n",
    "        \n",
    "        if period == 'ALL':\n",
    "\n",
    "            if region in ['New York', 'Philadelphia', 'District of Columbia', 'Boston']:\n",
    "                if dst == True:\n",
    "                    period_list = ['EDT_MP', 'EDT_PM', 'EDT_WE']\n",
    "                else:\n",
    "                    period_list = ['EST_MP', 'EST_PM', 'EST_WE']\n",
    "\n",
    "            elif region in ['Los Angeles', 'San Francisco-Oakland']:\n",
    "                if dst == True:\n",
    "                    period_list = ['PDT_MP', 'PDT_PM', 'PDT_WE']\n",
    "                else:\n",
    "                    period_list = ['PST_MP', 'PST_PM', 'PST_WE']\n",
    "\n",
    "            elif region in ['Chicago']:\n",
    "                if dst == True:\n",
    "                    period_list = ['CDT_MP', 'CDT_PM', 'CDT_WE']\n",
    "                else:\n",
    "                    period_list = ['CST_MP', 'CST_PM', 'CST_WE']     \n",
    "\n",
    "            else:\n",
    "\n",
    "                print('Not Valid Region')\n",
    "                sys.exit()\n",
    "\n",
    "            for periods in period_list:\n",
    "                call([\"python3\", config['General']['otp'] + '/otp_handler_rand2_azure.py', '-d', dt_str,\n",
    "                    '-r', region, '-p', str(threads), '-z', periods])\n",
    "        else:\n",
    "            call([\"python3\", config['General']['otp'] + '/otp_handler_rand2_azure.py', '-d', dt_str,\n",
    "                '-r', region, '-p', str(threads), '-z', period])\n",
    "\n",
    "    elif feeds_only == True:\n",
    "        if region in config['General']['transit_feeds']:\n",
    "            print('Transit Feeds')\n",
    "            gtfs.get.transit_feeds_historical(region, dt_str, xmin, xmax, ymin, ymax)\n",
    "        \n",
    "        else:\n",
    "\n",
    "            for i in range(1):\n",
    "                print('Transit Land')\n",
    "                gtfs.get.transit_land(region, dt_str, xmin, xmax, ymin, ymax)\n",
    "                time.sleep(90)\n",
    "        \n",
    "    elif build_only == True:\n",
    "        otp.build.build_otp(region, dt_str)\n",
    "        \n",
    "    else:\n",
    "        pass\n",
    "        # break\n",
    "    time.time() - start_time\n"
   ]
  },
  {
   "cell_type": "code",
   "execution_count": null,
   "id": "technical-keeping",
   "metadata": {},
   "outputs": [],
   "source": []
  }
 ],
 "metadata": {
  "kernelspec": {
   "display_name": "Python 3",
   "language": "python",
   "name": "python3"
  },
  "language_info": {
   "codemirror_mode": {
    "name": "ipython",
    "version": 3
   },
   "file_extension": ".py",
   "mimetype": "text/x-python",
   "name": "python",
   "nbconvert_exporter": "python",
   "pygments_lexer": "ipython3",
   "version": "3.8.8"
  }
 },
 "nbformat": 4,
 "nbformat_minor": 5
}
